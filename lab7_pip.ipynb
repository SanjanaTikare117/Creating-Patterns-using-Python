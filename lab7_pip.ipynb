{
  "nbformat": 4,
  "nbformat_minor": 0,
  "metadata": {
    "colab": {
      "provenance": [],
      "authorship_tag": "ABX9TyMSIZHotMLIvT2zc4bQgE/s",
      "include_colab_link": true
    },
    "kernelspec": {
      "name": "python3",
      "display_name": "Python 3"
    },
    "language_info": {
      "name": "python"
    }
  },
  "cells": [
    {
      "cell_type": "markdown",
      "metadata": {
        "id": "view-in-github",
        "colab_type": "text"
      },
      "source": [
        "<a href=\"https://colab.research.google.com/github/SanjanaTikare117/Creating-Patterns-using-Python/blob/main/lab7_pip.ipynb\" target=\"_parent\"><img src=\"https://colab.research.google.com/assets/colab-badge.svg\" alt=\"Open In Colab\"/></a>"
      ]
    },
    {
      "cell_type": "code",
      "execution_count": null,
      "metadata": {
        "colab": {
          "base_uri": "https://localhost:8080/"
        },
        "id": "RhJMDQzefub5",
        "outputId": "feb8f8d7-55b0-4cba-8bd1-791db75a5874"
      },
      "outputs": [
        {
          "output_type": "stream",
          "name": "stdout",
          "text": [
            "* * * * "
          ]
        }
      ],
      "source": [
        "n = 4\n",
        "for i in range(n):\n",
        "  print('*',end=\" \")"
      ]
    },
    {
      "cell_type": "code",
      "source": [
        "n = 4\n",
        "for i in range(n):\n",
        "  print('*')"
      ],
      "metadata": {
        "colab": {
          "base_uri": "https://localhost:8080/"
        },
        "id": "YWZ0jwD7gsOo",
        "outputId": "c2535766-b4a3-4a9b-d234-9cb2401e3cc7"
      },
      "execution_count": null,
      "outputs": [
        {
          "output_type": "stream",
          "name": "stdout",
          "text": [
            "*\n",
            "*\n",
            "*\n",
            "*\n"
          ]
        }
      ]
    },
    {
      "cell_type": "code",
      "source": [
        "n = 4\n",
        "for i in range(n):\n",
        "  for j in range(n):\n",
        "   print('*',end=\" \")\n",
        "  print('*')\n",
        ""
      ],
      "metadata": {
        "colab": {
          "base_uri": "https://localhost:8080/"
        },
        "id": "aOO-WwN5hNPP",
        "outputId": "d9467b9b-13a7-4ab4-b83b-a09a6e9f7aaf"
      },
      "execution_count": null,
      "outputs": [
        {
          "output_type": "stream",
          "name": "stdout",
          "text": [
            "* * * * *\n",
            "* * * * *\n",
            "* * * * *\n",
            "* * * * *\n"
          ]
        }
      ]
    },
    {
      "cell_type": "code",
      "source": [
        "n=4\n",
        "for i in range(n):\n",
        "   for j in range(n):\n",
        "     print('*',end=\" \")\n",
        "     print()\n"
      ],
      "metadata": {
        "colab": {
          "base_uri": "https://localhost:8080/"
        },
        "id": "4pqqTFyYhlwB",
        "outputId": "eb993abc-3f75-435c-8828-0c276122556d"
      },
      "execution_count": null,
      "outputs": [
        {
          "output_type": "stream",
          "name": "stdout",
          "text": [
            "* \n",
            "* \n",
            "* \n",
            "* \n",
            "* \n",
            "* \n",
            "* \n",
            "* \n",
            "* \n",
            "* \n",
            "* \n",
            "* \n",
            "* \n",
            "* \n",
            "* \n",
            "* \n"
          ]
        }
      ]
    },
    {
      "cell_type": "code",
      "source": [
        "n = 4\n",
        "for i in range(n):\n",
        "  for j in range(i+1):\n",
        "   print('*',end=\" \")\n",
        "  print()\n",
        ""
      ],
      "metadata": {
        "colab": {
          "base_uri": "https://localhost:8080/"
        },
        "id": "T5AHeYfPikz3",
        "outputId": "a038c4f2-814c-499e-94dc-61fcdaffcc04"
      },
      "execution_count": null,
      "outputs": [
        {
          "output_type": "stream",
          "name": "stdout",
          "text": [
            "* \n",
            "* * \n",
            "* * * \n",
            "* * * * \n"
          ]
        }
      ]
    },
    {
      "cell_type": "code",
      "source": [
        "n = 4\n",
        "for i in range(n):\n",
        "  for j in range(4-i):\n",
        "   print('*',end=\" \")\n",
        "  print()"
      ],
      "metadata": {
        "colab": {
          "base_uri": "https://localhost:8080/"
        },
        "id": "5OO2QYYXjDVG",
        "outputId": "c392b364-8f5a-4057-ea93-f0d171b619a1"
      },
      "execution_count": null,
      "outputs": [
        {
          "output_type": "stream",
          "name": "stdout",
          "text": [
            "* * * * \n",
            "* * * \n",
            "* * \n",
            "* \n"
          ]
        }
      ]
    },
    {
      "cell_type": "code",
      "source": [
        "\n",
        "print('multiplication table')\n",
        "for i in range(1, 11, 1):\n",
        "  for j in range(1, 6, 1):\n",
        "    print(format(i*j, \"4d\"), end=\" \")\n",
        "  print()"
      ],
      "metadata": {
        "colab": {
          "base_uri": "https://localhost:8080/"
        },
        "id": "CMyy6cV0lQft",
        "outputId": "04079a5d-47a0-43e9-de99-da5c8f87a8c9"
      },
      "execution_count": null,
      "outputs": [
        {
          "output_type": "stream",
          "name": "stdout",
          "text": [
            "multiplication table\n",
            "   1    2    3    4    5 \n",
            "   2    4    6    8   10 \n",
            "   3    6    9   12   15 \n",
            "   4    8   12   16   20 \n",
            "   5   10   15   20   25 \n",
            "   6   12   18   24   30 \n",
            "   7   14   21   28   35 \n",
            "   8   16   24   32   40 \n",
            "   9   18   27   36   45 \n",
            "  10   20   30   40   50 \n"
          ]
        }
      ]
    },
    {
      "cell_type": "code",
      "source": [
        "n=int(input('enter the number'))\n",
        "for i in range(n):\n",
        "  for j in range(n-i):\n",
        "    print('9',end=\" \")\n",
        "  print()"
      ],
      "metadata": {
        "colab": {
          "base_uri": "https://localhost:8080/"
        },
        "id": "FtROYmNym9ql",
        "outputId": "8687ab51-c187-48f0-eb09-5d16f6af0426"
      },
      "execution_count": null,
      "outputs": [
        {
          "output_type": "stream",
          "name": "stdout",
          "text": [
            "enter the number9\n",
            "9 9 9 9 9 9 9 9 9 \n",
            "9 9 9 9 9 9 9 9 \n",
            "9 9 9 9 9 9 9 \n",
            "9 9 9 9 9 9 \n",
            "9 9 9 9 9 \n",
            "9 9 9 9 \n",
            "9 9 9 \n",
            "9 9 \n",
            "9 \n"
          ]
        }
      ]
    },
    {
      "cell_type": "code",
      "source": [
        "n = 4\n",
        "for i in range(n):\n",
        "  for j in range(i+1):\n",
        "   print('*',end=\" \")\n",
        "  print()\n",
        "for i in range(n):\n",
        "  for j in range(n-i):\n",
        "   print('*',end=\" \")\n",
        "  print()"
      ],
      "metadata": {
        "colab": {
          "base_uri": "https://localhost:8080/"
        },
        "id": "665fEI7vnv9s",
        "outputId": "c036313b-d489-462f-9356-acbc15dd5fea"
      },
      "execution_count": null,
      "outputs": [
        {
          "output_type": "stream",
          "name": "stdout",
          "text": [
            "* \n",
            "* * \n",
            "* * * \n",
            "* * * * \n",
            "* * * * \n",
            "* * * \n",
            "* * \n",
            "* \n"
          ]
        }
      ]
    },
    {
      "cell_type": "code",
      "source": [
        "n = 4\n",
        "for i in range(n):\n",
        "  for j in range(i+1):\n",
        "   print('*',end=\" \")\n",
        "  print()\n",
        "for i in range(n):\n",
        "  for j in range(n-i):\n",
        "   print('*',end=\" \")\n",
        "  print()\n",
        "for i in range(n):\n",
        "  for j in range(i+1):\n",
        "    print(end=' ')\n",
        "  print()\n",
        "for i in range(n):\n",
        "  for j in range(n-i):\n",
        "   print(end=' ')\n",
        "  print()"
      ],
      "metadata": {
        "colab": {
          "base_uri": "https://localhost:8080/"
        },
        "id": "lg4rq9D3o8Ss",
        "outputId": "7fb2d657-b069-495c-c816-116b36895a10"
      },
      "execution_count": null,
      "outputs": [
        {
          "output_type": "stream",
          "name": "stdout",
          "text": [
            "* \n",
            "* * \n",
            "* * * \n",
            "* * * * \n",
            "* * * * \n",
            "* * * \n",
            "* * \n",
            "* \n",
            " \n",
            "  \n",
            "   \n",
            "    \n",
            "    \n",
            "   \n",
            "  \n",
            " \n"
          ]
        }
      ]
    },
    {
      "cell_type": "code",
      "source": [
        "l1=[\"red\",\"blue\",\"yellow\",\"black\"]\n",
        "len(l1)"
      ],
      "metadata": {
        "colab": {
          "base_uri": "https://localhost:8080/"
        },
        "id": "C1sbuT-TtKzQ",
        "outputId": "7c950bf0-fe40-45e4-fc79-53e8f0808f73"
      },
      "execution_count": null,
      "outputs": [
        {
          "output_type": "execute_result",
          "data": {
            "text/plain": [
              "4"
            ]
          },
          "metadata": {},
          "execution_count": 43
        }
      ]
    },
    {
      "cell_type": "code",
      "source": [
        "import random\n",
        "l = list(range(5))\n",
        "print(l)\n",
        "# [0, 1, 2, 3, 4]\n",
        "\n",
        "random.shuffle(l)\n",
        "print(l)\n",
        "# [1, 0, 4, 3, 2]\n"
      ],
      "metadata": {
        "colab": {
          "base_uri": "https://localhost:8080/"
        },
        "id": "xyLhMd7bwNqd",
        "outputId": "04485567-eea8-456f-c6ff-b581dd8f2f53"
      },
      "execution_count": null,
      "outputs": [
        {
          "output_type": "stream",
          "name": "stdout",
          "text": [
            "[0, 1, 2, 3, 4]\n",
            "[1, 4, 3, 0, 2]\n"
          ]
        }
      ]
    },
    {
      "cell_type": "code",
      "source": [],
      "metadata": {
        "id": "bZTZg2F8y_be"
      },
      "execution_count": null,
      "outputs": []
    }
  ]
}